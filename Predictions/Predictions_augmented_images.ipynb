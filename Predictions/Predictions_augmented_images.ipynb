{
  "nbformat": 4,
  "nbformat_minor": 0,
  "metadata": {
    "colab": {
      "name": "Predictions_augmented_images.ipynb",
      "provenance": []
    },
    "kernelspec": {
      "name": "python3",
      "display_name": "Python 3"
    },
    "language_info": {
      "name": "python"
    }
  },
  "cells": [
    {
      "cell_type": "code",
      "execution_count": 1,
      "metadata": {
        "colab": {
          "base_uri": "https://localhost:8080/"
        },
        "id": "bcSb98imMuqD",
        "outputId": "30ac5f1c-2193-4a41-8974-a9902495c792"
      },
      "outputs": [
        {
          "output_type": "stream",
          "name": "stdout",
          "text": [
            "Mounted at /content/drive\n"
          ]
        }
      ],
      "source": [
        "from google.colab import drive\n",
        "drive.mount('/content/drive')"
      ]
    },
    {
      "cell_type": "code",
      "source": [
        "#import packages\n",
        "import tensorflow as tf\n",
        "from keras.preprocessing.image import ImageDataGenerator\n",
        "\n",
        "import numpy as np\n",
        "import pandas as pd\n",
        "import os\n",
        "import cv2\n",
        "import glob\n",
        "import seaborn as sns\n",
        "\n",
        "import matplotlib.pyplot as plt\n",
        "\n",
        "# import the necessary packages\n",
        "from sklearn.metrics import accuracy_score,classification_report,confusion_matrix"
      ],
      "metadata": {
        "id": "zr7G1LOeMvOg"
      },
      "execution_count": 2,
      "outputs": []
    },
    {
      "cell_type": "code",
      "source": [
        "TRAIN_DIR = '/content/drive/MyDrive/ASL_Dataset/Train'\n",
        "TEST_DIR = '/content/drive/MyDrive/ASL_Dataset/new_test_images'"
      ],
      "metadata": {
        "id": "GHdBq4BZNY1F"
      },
      "execution_count": 3,
      "outputs": []
    },
    {
      "cell_type": "code",
      "source": [
        "# Load all the images under each class (subdirectory)\n",
        "def load_images(base_dir, directories_as_labels=True, files='**/*.jpg'):\n",
        "  filenames = glob.glob(os.path.join(base_dir, files))\n",
        "\n",
        "  # Load all the subdirectories as classes\n",
        "  classes = (os.path.basename(os.path.dirname(name)) for name in filenames)\n",
        "  df = pd.DataFrame(list(zip(filenames, classes)), columns=['path', 'label'])\n",
        "\n",
        "  return df\n",
        "\n",
        "train_df = load_images(TRAIN_DIR)\n",
        "test_df = load_images(TEST_DIR)"
      ],
      "metadata": {
        "id": "QBm26xuNNhVd"
      },
      "execution_count": 4,
      "outputs": []
    },
    {
      "cell_type": "code",
      "source": [
        "batch_size = 64\n",
        "image_size = 64\n",
        "num_class = len(train_df['label'].unique())"
      ],
      "metadata": {
        "id": "VGuzFXICNfmt"
      },
      "execution_count": 5,
      "outputs": []
    },
    {
      "cell_type": "code",
      "source": [
        "# save the model\n",
        "vgg16_1 = tf.keras.models.load_model('/content/drive/MyDrive/ASL_Dataset/vgg16-1-final.h5')\n",
        "cnn4 = tf.keras.models.load_model('/content/drive/MyDrive/ASL_Dataset/cnn-4-final.h5')\n",
        "res = tf.keras.models.load_model('/content/drive/MyDrive/ASL_Dataset/res-b2.h5')"
      ],
      "metadata": {
        "id": "r1XdBHJrM5LS"
      },
      "execution_count": 6,
      "outputs": []
    },
    {
      "cell_type": "code",
      "source": [
        "from skimage.filters import sobel, scharr\n",
        "import cv2\n",
        "\n",
        "def preprocess_image(image):\n",
        "    '''Function that will be implied on each input. The function\n",
        "    will run after the image is resized and augmented.\n",
        "    The function should take one argument: one image (Numpy tensor\n",
        "    with rank 3), and should output a Numpy tensor with the same\n",
        "    shape.'''\n",
        "    sobely = cv2.Sobel(image, cv2.CV_64F, 0, 1, ksize=5)\n",
        "    return sobely"
      ],
      "metadata": {
        "id": "xWm0zmJlNQfg"
      },
      "execution_count": 7,
      "outputs": []
    },
    {
      "cell_type": "markdown",
      "source": [
        "### **CNN Predictions**"
      ],
      "metadata": {
        "id": "NDfKuEzxBy6e"
      }
    },
    {
      "cell_type": "code",
      "source": [
        "# X_testing data from a directory\n",
        "# Sub-directory in that directory will be used as a class for each object\n",
        "cnn_test_datagen = ImageDataGenerator( samplewise_center=True,\n",
        "                                   samplewise_std_normalization=True,\n",
        "                                   horizontal_flip=False,\n",
        "                                   preprocessing_function=preprocess_image)\n",
        "cnn_test_generator = cnn_test_datagen.flow_from_directory(\n",
        "                        directory=TEST_DIR,\n",
        "                        target_size=(image_size,image_size),\n",
        "                        batch_size=batch_size,\n",
        "                        class_mode='categorical',\n",
        "                        color_mode='rgb',\n",
        "                        shuffle=False)\n",
        "y_true = cnn_test_generator.classes"
      ],
      "metadata": {
        "colab": {
          "base_uri": "https://localhost:8080/"
        },
        "id": "FJq703LoEqOx",
        "outputId": "e7fef5e0-35b5-456a-9904-002d71f44abd"
      },
      "execution_count": 8,
      "outputs": [
        {
          "output_type": "stream",
          "name": "stdout",
          "text": [
            "Found 112 images belonging to 28 classes.\n"
          ]
        }
      ]
    },
    {
      "cell_type": "code",
      "source": [
        "%time\n",
        "cnn_predictions = cnn4.predict(cnn_test_generator)\n",
        "y_pred_cnn = np.argmax(cnn_predictions, axis = 1)"
      ],
      "metadata": {
        "colab": {
          "base_uri": "https://localhost:8080/"
        },
        "id": "Kb4RQdubQNFq",
        "outputId": "5fd841f6-8812-4cf3-a2e2-9a1926a3f312"
      },
      "execution_count": 9,
      "outputs": [
        {
          "output_type": "stream",
          "name": "stdout",
          "text": [
            "CPU times: user 2 µs, sys: 1e+03 ns, total: 3 µs\n",
            "Wall time: 4.77 µs\n"
          ]
        }
      ]
    },
    {
      "cell_type": "code",
      "source": [
        "#get classification report\n",
        "print(classification_report(y_pred_cnn,y_true))"
      ],
      "metadata": {
        "colab": {
          "base_uri": "https://localhost:8080/"
        },
        "id": "Bb1Ca9_xQKcJ",
        "outputId": "28d4796d-d836-44fe-ebd4-1fcd3366e535"
      },
      "execution_count": 10,
      "outputs": [
        {
          "output_type": "stream",
          "name": "stdout",
          "text": [
            "              precision    recall  f1-score   support\n",
            "\n",
            "           0       0.75      1.00      0.86         3\n",
            "           1       1.00      0.40      0.57        10\n",
            "           2       0.25      1.00      0.40         1\n",
            "           3       0.00      0.00      0.00         1\n",
            "           4       0.50      0.25      0.33         8\n",
            "           5       0.00      0.00      0.00         0\n",
            "           6       0.75      0.43      0.55         7\n",
            "           7       0.50      1.00      0.67         2\n",
            "           8       0.00      0.00      0.00         4\n",
            "           9       1.00      0.67      0.80         6\n",
            "          10       0.25      0.17      0.20         6\n",
            "          11       0.00      0.00      0.00         0\n",
            "          12       1.00      0.57      0.73         7\n",
            "          13       0.50      1.00      0.67         2\n",
            "          14       0.75      0.14      0.24        21\n",
            "          15       0.25      0.50      0.33         2\n",
            "          16       0.50      0.67      0.57         3\n",
            "          17       0.25      1.00      0.40         1\n",
            "          18       0.25      1.00      0.40         1\n",
            "          19       0.50      0.33      0.40         6\n",
            "          20       0.75      0.75      0.75         4\n",
            "          21       0.75      1.00      0.86         3\n",
            "          22       0.25      0.33      0.29         3\n",
            "          23       0.00      0.00      0.00         1\n",
            "          24       0.25      0.50      0.33         2\n",
            "          25       0.50      0.67      0.57         3\n",
            "          26       0.25      0.25      0.25         4\n",
            "          27       0.25      1.00      0.40         1\n",
            "\n",
            "    accuracy                           0.43       112\n",
            "   macro avg       0.43      0.52      0.41       112\n",
            "weighted avg       0.61      0.43      0.44       112\n",
            "\n"
          ]
        },
        {
          "output_type": "stream",
          "name": "stderr",
          "text": [
            "/usr/local/lib/python3.7/dist-packages/sklearn/metrics/_classification.py:1318: UndefinedMetricWarning: Recall and F-score are ill-defined and being set to 0.0 in labels with no true samples. Use `zero_division` parameter to control this behavior.\n",
            "  _warn_prf(average, modifier, msg_start, len(result))\n",
            "/usr/local/lib/python3.7/dist-packages/sklearn/metrics/_classification.py:1318: UndefinedMetricWarning: Recall and F-score are ill-defined and being set to 0.0 in labels with no true samples. Use `zero_division` parameter to control this behavior.\n",
            "  _warn_prf(average, modifier, msg_start, len(result))\n",
            "/usr/local/lib/python3.7/dist-packages/sklearn/metrics/_classification.py:1318: UndefinedMetricWarning: Recall and F-score are ill-defined and being set to 0.0 in labels with no true samples. Use `zero_division` parameter to control this behavior.\n",
            "  _warn_prf(average, modifier, msg_start, len(result))\n"
          ]
        }
      ]
    },
    {
      "cell_type": "code",
      "source": [
        "from IPython.core.pylabtools import figsize\n",
        "from sklearn.metrics import ConfusionMatrixDisplay\n",
        "from sklearn.metrics import confusion_matrix\n",
        "\n",
        "cm = confusion_matrix(y_true, y_pred_cnn)\n",
        "\n",
        "disp = ConfusionMatrixDisplay(confusion_matrix=cm)\n",
        "\n",
        "disp.plot(cmap=plt.cm.Blues)\n",
        "figsize (20,20)\n",
        "plt.show()"
      ],
      "metadata": {
        "colab": {
          "base_uri": "https://localhost:8080/",
          "height": 283
        },
        "id": "SAmKfR3uU49j",
        "outputId": "5f013bc3-2643-4bd2-832d-12e30e6b335c"
      },
      "execution_count": 11,
      "outputs": [
        {
          "output_type": "display_data",
          "data": {
            "text/plain": [
              "<Figure size 432x288 with 2 Axes>"
            ],
            "image/png": "[encoded data removed]"
          },
          "metadata": {
            "needs_background": "light"
          }
        }
      ]
    },
    {
      "cell_type": "markdown",
      "source": [
        "### **Residual Network**"
      ],
      "metadata": {
        "id": "mr6zXc2KCBOL"
      }
    },
    {
      "cell_type": "code",
      "source": [
        "# X_testing data from a directory\n",
        "# Sub-directory in that directory will be used as a class for each object\n",
        "res_test_datagen = ImageDataGenerator( samplewise_center=True,\n",
        "                                   samplewise_std_normalization=True,\n",
        "                                   horizontal_flip=False,\n",
        "                                   preprocessing_function=preprocess_image)\n",
        "res_test_generator = res_test_datagen.flow_from_directory(\n",
        "                        directory=TEST_DIR,\n",
        "                        target_size=(image_size,image_size),\n",
        "                        batch_size=batch_size,\n",
        "                        class_mode='categorical',\n",
        "                        color_mode='rgb',\n",
        "                        shuffle=False)\n",
        "y_true = res_test_generator.classes"
      ],
      "metadata": {
        "colab": {
          "base_uri": "https://localhost:8080/"
        },
        "id": "Us7j1V40Gkz-",
        "outputId": "43d5b7c2-d252-4352-e88d-9bddcc5a84ef"
      },
      "execution_count": 12,
      "outputs": [
        {
          "output_type": "stream",
          "name": "stdout",
          "text": [
            "Found 112 images belonging to 28 classes.\n"
          ]
        }
      ]
    },
    {
      "cell_type": "code",
      "source": [
        "%time\n",
        "resnn_predictions = res.predict(res_test_generator)\n",
        "y_pred_res = np.argmax(resnn_predictions, axis = 1)"
      ],
      "metadata": {
        "colab": {
          "base_uri": "https://localhost:8080/"
        },
        "id": "pzkRtLp6V_nR",
        "outputId": "2fdef83e-22e4-43fb-c5ae-ae3c1094b997"
      },
      "execution_count": 13,
      "outputs": [
        {
          "output_type": "stream",
          "name": "stdout",
          "text": [
            "CPU times: user 2 µs, sys: 0 ns, total: 2 µs\n",
            "Wall time: 5.48 µs\n"
          ]
        }
      ]
    },
    {
      "cell_type": "code",
      "source": [
        "#get classification report\n",
        "print(classification_report(y_pred_res,y_true))"
      ],
      "metadata": {
        "colab": {
          "base_uri": "https://localhost:8080/"
        },
        "id": "viJ8YI0WCM79",
        "outputId": "efb218ba-7b22-4084-d482-5fe2866b799f"
      },
      "execution_count": 14,
      "outputs": [
        {
          "output_type": "stream",
          "name": "stdout",
          "text": [
            "              precision    recall  f1-score   support\n",
            "\n",
            "           0       0.25      0.50      0.33         2\n",
            "           1       0.00      0.00      0.00         0\n",
            "           2       0.25      1.00      0.40         1\n",
            "           3       0.50      0.67      0.57         3\n",
            "           4       0.00      0.00      0.00         1\n",
            "           5       0.00      0.00      0.00         1\n",
            "           6       0.75      0.60      0.67         5\n",
            "           7       0.50      1.00      0.67         2\n",
            "           8       0.00      0.00      0.00         0\n",
            "           9       0.75      0.18      0.29        17\n",
            "          10       0.00      0.00      0.00         1\n",
            "          11       0.50      1.00      0.67         2\n",
            "          12       0.50      0.25      0.33         8\n",
            "          13       1.00      0.50      0.67         8\n",
            "          14       0.25      0.05      0.08        21\n",
            "          15       0.25      1.00      0.40         1\n",
            "          16       0.50      0.67      0.57         3\n",
            "          17       0.25      1.00      0.40         1\n",
            "          18       0.25      1.00      0.40         1\n",
            "          19       0.00      0.00      0.00         4\n",
            "          20       1.00      1.00      1.00         4\n",
            "          21       0.00      0.00      0.00         0\n",
            "          22       0.00      0.00      0.00         0\n",
            "          23       0.00      0.00      0.00         2\n",
            "          24       0.00      0.00      0.00         0\n",
            "          25       0.00      0.00      0.00         4\n",
            "          26       0.50      0.11      0.17        19\n",
            "          27       0.25      1.00      0.40         1\n",
            "\n",
            "    accuracy                           0.29       112\n",
            "   macro avg       0.29      0.41      0.29       112\n",
            "weighted avg       0.48      0.29      0.30       112\n",
            "\n"
          ]
        },
        {
          "output_type": "stream",
          "name": "stderr",
          "text": [
            "/usr/local/lib/python3.7/dist-packages/sklearn/metrics/_classification.py:1318: UndefinedMetricWarning: Recall and F-score are ill-defined and being set to 0.0 in labels with no true samples. Use `zero_division` parameter to control this behavior.\n",
            "  _warn_prf(average, modifier, msg_start, len(result))\n",
            "/usr/local/lib/python3.7/dist-packages/sklearn/metrics/_classification.py:1318: UndefinedMetricWarning: Recall and F-score are ill-defined and being set to 0.0 in labels with no true samples. Use `zero_division` parameter to control this behavior.\n",
            "  _warn_prf(average, modifier, msg_start, len(result))\n",
            "/usr/local/lib/python3.7/dist-packages/sklearn/metrics/_classification.py:1318: UndefinedMetricWarning: Recall and F-score are ill-defined and being set to 0.0 in labels with no true samples. Use `zero_division` parameter to control this behavior.\n",
            "  _warn_prf(average, modifier, msg_start, len(result))\n"
          ]
        }
      ]
    },
    {
      "cell_type": "code",
      "source": [
        "from IPython.core.pylabtools import figsize\n",
        "from sklearn.metrics import ConfusionMatrixDisplay\n",
        "from sklearn.metrics import confusion_matrix\n",
        "\n",
        "cm = confusion_matrix(y_true, y_pred_cnn)\n",
        "\n",
        "disp = ConfusionMatrixDisplay(confusion_matrix=cm)\n",
        "\n",
        "disp.plot(cmap=plt.cm.Blues)\n",
        "figsize (20,20)\n",
        "plt.show()"
      ],
      "metadata": {
        "colab": {
          "base_uri": "https://localhost:8080/",
          "height": 1000
        },
        "id": "MxntSVxICT6j",
        "outputId": "2a9ae043-4d13-4156-f9f2-a3ffd13bf28c"
      },
      "execution_count": 15,
      "outputs": [
        {
          "output_type": "display_data",
          "data": {
            "text/plain": [
              "<Figure size 1440x1440 with 2 Axes>"
            ],
            "image/png": "[encoded data removed]"
          },
          "metadata": {
            "needs_background": "light"
          }
        }
      ]
    },
    {
      "cell_type": "markdown",
      "source": [
        "### **VGG16**"
      ],
      "metadata": {
        "id": "gmcB0HWVCVwE"
      }
    },
    {
      "cell_type": "code",
      "source": [
        "# X_testing data from a directory\n",
        "# Sub-directory in that directory will be used as a class for each object\n",
        "vgg_test_datagen = ImageDataGenerator()\n",
        "vgg_test_generator = vgg_test_datagen.flow_from_directory(\n",
        "                        directory=TEST_DIR,\n",
        "                        target_size=(image_size,image_size),\n",
        "                        batch_size=batch_size,\n",
        "                        class_mode='categorical',\n",
        "                        color_mode='rgb',\n",
        "                        shuffle=False)\n",
        "y_true = vgg_test_generator.classes"
      ],
      "metadata": {
        "colab": {
          "base_uri": "https://localhost:8080/"
        },
        "id": "P4U398QeG1W5",
        "outputId": "2fa036b2-26f6-46d6-ebc9-245e520f8ba0"
      },
      "execution_count": 16,
      "outputs": [
        {
          "output_type": "stream",
          "name": "stdout",
          "text": [
            "Found 112 images belonging to 28 classes.\n"
          ]
        }
      ]
    },
    {
      "cell_type": "code",
      "source": [
        "%time\n",
        "vgg_predictions = vgg16_1.predict(vgg_test_generator)\n",
        "y_pred_vgg = np.argmax(vgg_predictions, axis = 1)"
      ],
      "metadata": {
        "colab": {
          "base_uri": "https://localhost:8080/"
        },
        "id": "qZqttKUnCXp_",
        "outputId": "61ca532c-6589-4fd5-d0cc-e9bcad1347ae"
      },
      "execution_count": 17,
      "outputs": [
        {
          "output_type": "stream",
          "name": "stdout",
          "text": [
            "CPU times: user 2 µs, sys: 0 ns, total: 2 µs\n",
            "Wall time: 5.25 µs\n"
          ]
        }
      ]
    },
    {
      "cell_type": "code",
      "source": [
        "#get classification report\n",
        "print(classification_report(y_pred_vgg,y_true))"
      ],
      "metadata": {
        "colab": {
          "base_uri": "https://localhost:8080/"
        },
        "id": "v2C9u5-oCbA1",
        "outputId": "87bb7eb7-6521-4e6d-a9d8-47ecc927c5aa"
      },
      "execution_count": 18,
      "outputs": [
        {
          "output_type": "stream",
          "name": "stdout",
          "text": [
            "              precision    recall  f1-score   support\n",
            "\n",
            "           0       0.00      0.00      0.00         1\n",
            "           1       0.00      0.00      0.00         2\n",
            "           2       0.00      0.00      0.00         1\n",
            "           3       0.00      0.00      0.00         0\n",
            "           4       0.00      0.00      0.00         2\n",
            "           5       0.00      0.00      0.00         0\n",
            "           6       0.50      0.12      0.20        16\n",
            "           7       0.25      1.00      0.40         1\n",
            "           8       0.00      0.00      0.00         0\n",
            "           9       0.75      0.50      0.60         6\n",
            "          10       0.00      0.00      0.00         0\n",
            "          11       0.00      0.00      0.00         1\n",
            "          12       0.00      0.00      0.00         1\n",
            "          13       0.00      0.00      0.00         6\n",
            "          14       0.00      0.00      0.00         5\n",
            "          15       0.50      0.40      0.44         5\n",
            "          16       0.00      0.00      0.00         0\n",
            "          17       0.00      0.00      0.00         0\n",
            "          18       0.50      0.08      0.14        25\n",
            "          19       0.00      0.00      0.00         0\n",
            "          20       0.50      1.00      0.67         2\n",
            "          21       0.00      0.00      0.00         0\n",
            "          22       0.00      0.00      0.00         0\n",
            "          23       0.75      0.30      0.43        10\n",
            "          24       0.00      0.00      0.00         0\n",
            "          25       0.75      0.12      0.21        25\n",
            "          26       0.00      0.00      0.00         3\n",
            "          27       0.00      0.00      0.00         0\n",
            "\n",
            "    accuracy                           0.16       112\n",
            "   macro avg       0.16      0.13      0.11       112\n",
            "weighted avg       0.49      0.16      0.21       112\n",
            "\n"
          ]
        },
        {
          "output_type": "stream",
          "name": "stderr",
          "text": [
            "/usr/local/lib/python3.7/dist-packages/sklearn/metrics/_classification.py:1318: UndefinedMetricWarning: Recall and F-score are ill-defined and being set to 0.0 in labels with no true samples. Use `zero_division` parameter to control this behavior.\n",
            "  _warn_prf(average, modifier, msg_start, len(result))\n",
            "/usr/local/lib/python3.7/dist-packages/sklearn/metrics/_classification.py:1318: UndefinedMetricWarning: Recall and F-score are ill-defined and being set to 0.0 in labels with no true samples. Use `zero_division` parameter to control this behavior.\n",
            "  _warn_prf(average, modifier, msg_start, len(result))\n",
            "/usr/local/lib/python3.7/dist-packages/sklearn/metrics/_classification.py:1318: UndefinedMetricWarning: Recall and F-score are ill-defined and being set to 0.0 in labels with no true samples. Use `zero_division` parameter to control this behavior.\n",
            "  _warn_prf(average, modifier, msg_start, len(result))\n"
          ]
        }
      ]
    },
    {
      "cell_type": "code",
      "source": [
        "from IPython.core.pylabtools import figsize\n",
        "from sklearn.metrics import ConfusionMatrixDisplay\n",
        "from sklearn.metrics import confusion_matrix\n",
        "\n",
        "\n",
        "\n",
        "cm = confusion_matrix(y_true, y_pred_vgg)\n",
        "\n",
        "disp = ConfusionMatrixDisplay(confusion_matrix=cm)\n",
        "\n",
        "disp.plot(cmap=plt.cm.Blues)\n",
        "figsize (60,60)\n",
        "plt.show()"
      ],
      "metadata": {
        "colab": {
          "base_uri": "https://localhost:8080/",
          "height": 1000
        },
        "id": "fCvAg4i4CdSN",
        "outputId": "99be23c4-58d5-42e9-8808-ae8461498af6"
      },
      "execution_count": 19,
      "outputs": [
        {
          "output_type": "display_data",
          "data": {
            "text/plain": [
              "<Figure size 1440x1440 with 2 Axes>"
            ],
            "image/png": "[encoded data removed]"
          },
          "metadata": {
            "needs_background": "light"
          }
        }
      ]
    },
    {
      "cell_type": "code",
      "source": [
        "# save the model\n",
        "vgg16_1.summary()\n",
        "cnn4.summary()\n",
        "res.summary()"
      ],
      "metadata": {
        "colab": {
          "base_uri": "https://localhost:8080/"
        },
        "id": "joXIz46x8ZUe",
        "outputId": "ff55abd5-016c-49c3-98e2-a66f7874b794"
      },
      "execution_count": 20,
      "outputs": [
        {
          "output_type": "stream",
          "name": "stdout",
          "text": [
            "Model: \"sequential\"\n",
            "_________________________________________________________________\n",
            " Layer (type)                Output Shape              Param #   \n",
            "=================================================================\n",
            " vgg16 (Functional)          (None, 2, 2, 512)         14714688  \n",
            "                                                                 \n",
            " flatten (Flatten)           (None, 2048)              0         \n",
            "                                                                 \n",
            " dense (Dense)               (None, 1024)              2098176   \n",
            "                                                                 \n",
            " dense_1 (Dense)             (None, 1024)              1049600   \n",
            "                                                                 \n",
            " dense_2 (Dense)             (None, 28)                28700     \n",
            "                                                                 \n",
            "=================================================================\n",
            "Total params: 17,891,164\n",
            "Trainable params: 3,176,476\n",
            "Non-trainable params: 14,714,688\n",
            "_________________________________________________________________\n",
            "Model: \"model\"\n",
            "_________________________________________________________________\n",
            " Layer (type)                Output Shape              Param #   \n",
            "=================================================================\n",
            " input_1 (InputLayer)        [(None, 64, 64, 3)]       0         \n",
            "                                                                 \n",
            " conv2d (Conv2D)             (None, 61, 61, 64)        3136      \n",
            "                                                                 \n",
            " conv2d_1 (Conv2D)           (None, 29, 29, 64)        65600     \n",
            "                                                                 \n",
            " dropout (Dropout)           (None, 29, 29, 64)        0         \n",
            "                                                                 \n",
            " conv2d_2 (Conv2D)           (None, 26, 26, 128)       131200    \n",
            "                                                                 \n",
            " conv2d_3 (Conv2D)           (None, 12, 12, 128)       262272    \n",
            "                                                                 \n",
            " dropout_1 (Dropout)         (None, 12, 12, 128)       0         \n",
            "                                                                 \n",
            " conv2d_4 (Conv2D)           (None, 9, 9, 256)         524544    \n",
            "                                                                 \n",
            " conv2d_5 (Conv2D)           (None, 3, 3, 256)         1048832   \n",
            "                                                                 \n",
            " flatten (Flatten)           (None, 2304)              0         \n",
            "                                                                 \n",
            " dropout_2 (Dropout)         (None, 2304)              0         \n",
            "                                                                 \n",
            " dense (Dense)               (None, 512)               1180160   \n",
            "                                                                 \n",
            " dense_1 (Dense)             (None, 28)                14364     \n",
            "                                                                 \n",
            "=================================================================\n",
            "Total params: 3,230,108\n",
            "Trainable params: 3,230,108\n",
            "Non-trainable params: 0\n",
            "_________________________________________________________________\n",
            "Model: \"model\"\n",
            "__________________________________________________________________________________________________\n",
            " Layer (type)                   Output Shape         Param #     Connected to                     \n",
            "==================================================================================================\n",
            " input_1 (InputLayer)           [(None, 64, 64, 3)]  0           []                               \n",
            "                                                                                                  \n",
            " conv2d (Conv2D)                (None, 64, 64, 64)   3136        ['input_1[0][0]']                \n",
            "                                                                                                  \n",
            " conv2d_1 (Conv2D)              (None, 32, 32, 64)   65600       ['conv2d[0][0]']                 \n",
            "                                                                                                  \n",
            " dropout (Dropout)              (None, 32, 32, 64)   0           ['conv2d_1[0][0]']               \n",
            "                                                                                                  \n",
            " conv2d_2 (Conv2D)              (None, 32, 32, 64)   65600       ['dropout[0][0]']                \n",
            "                                                                                                  \n",
            " add (Add)                      (None, 32, 32, 64)   0           ['dropout[0][0]',                \n",
            "                                                                  'conv2d_2[0][0]']               \n",
            "                                                                                                  \n",
            " conv2d_3 (Conv2D)              (None, 16, 16, 128)  131200      ['add[0][0]']                    \n",
            "                                                                                                  \n",
            " dropout_1 (Dropout)            (None, 16, 16, 128)  0           ['conv2d_3[0][0]']               \n",
            "                                                                                                  \n",
            " conv2d_4 (Conv2D)              (None, 16, 16, 128)  262272      ['dropout_1[0][0]']              \n",
            "                                                                                                  \n",
            " add_1 (Add)                    (None, 16, 16, 128)  0           ['dropout_1[0][0]',              \n",
            "                                                                  'conv2d_4[0][0]']               \n",
            "                                                                                                  \n",
            " conv2d_5 (Conv2D)              (None, 8, 8, 256)    524544      ['add_1[0][0]']                  \n",
            "                                                                                                  \n",
            " dropout_2 (Dropout)            (None, 8, 8, 256)    0           ['conv2d_5[0][0]']               \n",
            "                                                                                                  \n",
            " flatten (Flatten)              (None, 16384)        0           ['dropout_2[0][0]']              \n",
            "                                                                                                  \n",
            " dense (Dense)                  (None, 512)          8389120     ['flatten[0][0]']                \n",
            "                                                                                                  \n",
            " dense_1 (Dense)                (None, 28)           14364       ['dense[0][0]']                  \n",
            "                                                                                                  \n",
            "==================================================================================================\n",
            "Total params: 9,455,836\n",
            "Trainable params: 9,455,836\n",
            "Non-trainable params: 0\n",
            "__________________________________________________________________________________________________\n"
          ]
        }
      ]
    },
    {
      "cell_type": "code",
      "source": [
        ""
      ],
      "metadata": {
        "id": "3iD0uqz18fmo"
      },
      "execution_count": 20,
      "outputs": []
    }
  ]
}